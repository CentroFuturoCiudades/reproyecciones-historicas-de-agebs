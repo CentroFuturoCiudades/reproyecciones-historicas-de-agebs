{
 "cells": [
  {
   "cell_type": "code",
   "execution_count": 14,
   "id": "4346a6df-141a-4733-bb7b-84a01a20bb9e",
   "metadata": {},
   "outputs": [],
   "source": [
    "# Importanción de Módulos y Directorios\n",
    "import geopandas as gpd\n",
    "path_data = \"../../Sample_Data/Raw/\""
   ]
  },
  {
   "cell_type": "markdown",
   "id": "d7b28be6-c67e-42ab-9f35-fa39845906f6",
   "metadata": {},
   "source": [
    "## Áreas Geoestadísticas Básicas 90"
   ]
  },
  {
   "cell_type": "code",
   "execution_count": 17,
   "id": "b61c3dc7-d317-4ef6-83b4-0bd4787e6519",
   "metadata": {},
   "outputs": [],
   "source": [
    "agebs_90_path = path_data + \"agebs_90/AGEB's_90.shp\"\n",
    "agebs_90      = gpd.read_file(agebs_90_path)"
   ]
  },
  {
   "cell_type": "code",
   "execution_count": 19,
   "id": "cb7fbf3d-674e-4a78-a5f4-9d56b492f04e",
   "metadata": {},
   "outputs": [
    {
     "data": {
      "text/html": [
       "<div>\n",
       "<style scoped>\n",
       "    .dataframe tbody tr th:only-of-type {\n",
       "        vertical-align: middle;\n",
       "    }\n",
       "\n",
       "    .dataframe tbody tr th {\n",
       "        vertical-align: top;\n",
       "    }\n",
       "\n",
       "    .dataframe thead th {\n",
       "        text-align: right;\n",
       "    }\n",
       "</style>\n",
       "<table border=\"1\" class=\"dataframe\">\n",
       "  <thead>\n",
       "    <tr style=\"text-align: right;\">\n",
       "      <th></th>\n",
       "      <th>OBJECTID</th>\n",
       "      <th>CVE_ENT</th>\n",
       "      <th>CVE_MUN</th>\n",
       "      <th>CVE_LOC</th>\n",
       "      <th>CVE_AGEB</th>\n",
       "      <th>geometry</th>\n",
       "    </tr>\n",
       "  </thead>\n",
       "  <tbody>\n",
       "    <tr>\n",
       "      <th>0</th>\n",
       "      <td>1</td>\n",
       "      <td>01</td>\n",
       "      <td>009</td>\n",
       "      <td>0001</td>\n",
       "      <td>0053</td>\n",
       "      <td>POLYGON ((2480877.300 1134784.103, 2480927.966...</td>\n",
       "    </tr>\n",
       "    <tr>\n",
       "      <th>1</th>\n",
       "      <td>2</td>\n",
       "      <td>01</td>\n",
       "      <td>009</td>\n",
       "      <td>0001</td>\n",
       "      <td>0068</td>\n",
       "      <td>POLYGON ((2482928.726 1134084.647, 2482941.429...</td>\n",
       "    </tr>\n",
       "    <tr>\n",
       "      <th>2</th>\n",
       "      <td>3</td>\n",
       "      <td>01</td>\n",
       "      <td>008</td>\n",
       "      <td>0001</td>\n",
       "      <td>015A</td>\n",
       "      <td>POLYGON ((2457986.836 1126048.649, 2458002.336...</td>\n",
       "    </tr>\n",
       "    <tr>\n",
       "      <th>3</th>\n",
       "      <td>4</td>\n",
       "      <td>01</td>\n",
       "      <td>008</td>\n",
       "      <td>0001</td>\n",
       "      <td>0130</td>\n",
       "      <td>POLYGON ((2457482.756 1125406.744, 2457784.406...</td>\n",
       "    </tr>\n",
       "    <tr>\n",
       "      <th>4</th>\n",
       "      <td>5</td>\n",
       "      <td>01</td>\n",
       "      <td>008</td>\n",
       "      <td>0001</td>\n",
       "      <td>0126</td>\n",
       "      <td>POLYGON ((2457664.278 1126449.007, 2457707.870...</td>\n",
       "    </tr>\n",
       "  </tbody>\n",
       "</table>\n",
       "</div>"
      ],
      "text/plain": [
       "   OBJECTID CVE_ENT CVE_MUN CVE_LOC CVE_AGEB  \\\n",
       "0         1      01     009    0001     0053   \n",
       "1         2      01     009    0001     0068   \n",
       "2         3      01     008    0001     015A   \n",
       "3         4      01     008    0001     0130   \n",
       "4         5      01     008    0001     0126   \n",
       "\n",
       "                                            geometry  \n",
       "0  POLYGON ((2480877.300 1134784.103, 2480927.966...  \n",
       "1  POLYGON ((2482928.726 1134084.647, 2482941.429...  \n",
       "2  POLYGON ((2457986.836 1126048.649, 2458002.336...  \n",
       "3  POLYGON ((2457482.756 1125406.744, 2457784.406...  \n",
       "4  POLYGON ((2457664.278 1126449.007, 2457707.870...  "
      ]
     },
     "execution_count": 19,
     "metadata": {},
     "output_type": "execute_result"
    }
   ],
   "source": [
    "agebs_90.head()"
   ]
  },
  {
   "cell_type": "code",
   "execution_count": 33,
   "id": "91e6e7a6-3b76-49ef-8fb0-75b05b921d8a",
   "metadata": {},
   "outputs": [
    {
     "data": {
      "text/plain": [
       "<Projected CRS: PROJCS[\"MEXICO_ITRF_2008_LCC\",GEOGCS[\"GCS_MEXICO_I ...>\n",
       "Name: MEXICO_ITRF_2008_LCC\n",
       "Axis Info [cartesian]:\n",
       "- [east]: Easting (metre)\n",
       "- [north]: Northing (metre)\n",
       "Area of Use:\n",
       "- undefined\n",
       "Coordinate Operation:\n",
       "- name: unnamed\n",
       "- method: Lambert Conic Conformal (2SP)\n",
       "Datum: International_Terrestrial_Reference_Frame_2008\n",
       "- Ellipsoid: GRS 1980\n",
       "- Prime Meridian: Greenwich"
      ]
     },
     "execution_count": 33,
     "metadata": {},
     "output_type": "execute_result"
    }
   ],
   "source": [
    "agebs_90.crs"
   ]
  },
  {
   "cell_type": "code",
   "execution_count": 24,
   "id": "d7831acb-4e5d-4d70-a48e-cfeb38e2d23a",
   "metadata": {},
   "outputs": [
    {
     "data": {
      "text/plain": [
       "<Axes: >"
      ]
     },
     "execution_count": 24,
     "metadata": {},
     "output_type": "execute_result"
    },
    {
     "data": {
      "image/png": "[encoded data removed]",
      "text/plain": [
       "<Figure size 640x480 with 1 Axes>"
      ]
     },
     "metadata": {},
     "output_type": "display_data"
    }
   ],
   "source": [
    "monterrey = agebs_90.loc[(agebs_90.CVE_ENT == \"19\") & (agebs_90.CVE_MUN == \"039\")]\n",
    "monterrey.plot()"
   ]
  },
  {
   "cell_type": "markdown",
   "id": "4ddbc493-82c5-4dd5-8f33-fef2fb9cf271",
   "metadata": {},
   "source": [
    "## Malla Geoestadística"
   ]
  },
  {
   "cell_type": "code",
   "execution_count": 27,
   "id": "127ae48d-10ce-4bde-87ed-c90a3aef0b71",
   "metadata": {},
   "outputs": [],
   "source": [
    "malla_path = path_data + \"malla_geoestadistica/conjunto_de_datos/nivel8.shp\"\n",
    "malla_geo  = gpd.read_file(malla_path)"
   ]
  },
  {
   "cell_type": "code",
   "execution_count": 28,
   "id": "613b8993-068b-4caf-a6f8-56a13ca465e5",
   "metadata": {},
   "outputs": [
    {
     "data": {
      "text/html": [
       "<div>\n",
       "<style scoped>\n",
       "    .dataframe tbody tr th:only-of-type {\n",
       "        vertical-align: middle;\n",
       "    }\n",
       "\n",
       "    .dataframe tbody tr th {\n",
       "        vertical-align: top;\n",
       "    }\n",
       "\n",
       "    .dataframe thead th {\n",
       "        text-align: right;\n",
       "    }\n",
       "</style>\n",
       "<table border=\"1\" class=\"dataframe\">\n",
       "  <thead>\n",
       "    <tr style=\"text-align: right;\">\n",
       "      <th></th>\n",
       "      <th>codigo</th>\n",
       "      <th>geometry</th>\n",
       "    </tr>\n",
       "  </thead>\n",
       "  <tbody>\n",
       "    <tr>\n",
       "      <th>0</th>\n",
       "      <td>O28545334</td>\n",
       "      <td>POLYGON ((-91.46776 17.27761, -91.45405 17.277...</td>\n",
       "    </tr>\n",
       "    <tr>\n",
       "      <th>1</th>\n",
       "      <td>O28545335</td>\n",
       "      <td>POLYGON ((-91.45405 17.27761, -91.44033 17.277...</td>\n",
       "    </tr>\n",
       "    <tr>\n",
       "      <th>2</th>\n",
       "      <td>O28545343</td>\n",
       "      <td>POLYGON ((-91.44033 17.27761, -91.42661 17.277...</td>\n",
       "    </tr>\n",
       "    <tr>\n",
       "      <th>3</th>\n",
       "      <td>O28545344</td>\n",
       "      <td>POLYGON ((-91.42661 17.27761, -91.41289 17.277...</td>\n",
       "    </tr>\n",
       "    <tr>\n",
       "      <th>4</th>\n",
       "      <td>O28545345</td>\n",
       "      <td>POLYGON ((-91.41289 17.27761, -91.39918 17.277...</td>\n",
       "    </tr>\n",
       "  </tbody>\n",
       "</table>\n",
       "</div>"
      ],
      "text/plain": [
       "      codigo                                           geometry\n",
       "0  O28545334  POLYGON ((-91.46776 17.27761, -91.45405 17.277...\n",
       "1  O28545335  POLYGON ((-91.45405 17.27761, -91.44033 17.277...\n",
       "2  O28545343  POLYGON ((-91.44033 17.27761, -91.42661 17.277...\n",
       "3  O28545344  POLYGON ((-91.42661 17.27761, -91.41289 17.277...\n",
       "4  O28545345  POLYGON ((-91.41289 17.27761, -91.39918 17.277..."
      ]
     },
     "execution_count": 28,
     "metadata": {},
     "output_type": "execute_result"
    }
   ],
   "source": [
    "malla_geo.head()"
   ]
  },
  {
   "cell_type": "code",
   "execution_count": 31,
   "id": "4557be27-0ae6-4b06-985d-410e4c65e399",
   "metadata": {},
   "outputs": [
    {
     "data": {
      "text/plain": [
       "0          O28545334\n",
       "1          O28545335\n",
       "2          O28545343\n",
       "3          O28545344\n",
       "4          O28545345\n",
       "             ...    \n",
       "3011494    O52128877\n",
       "3011495    O52128878\n",
       "3011496    O52128886\n",
       "3011497    O52128887\n",
       "3011498    O52128888\n",
       "Name: codigo, Length: 3011499, dtype: object"
      ]
     },
     "execution_count": 31,
     "metadata": {},
     "output_type": "execute_result"
    }
   ],
   "source": [
    "malla_geo.codigo"
   ]
  },
  {
   "cell_type": "code",
   "execution_count": 32,
   "id": "a0b80c0e-1b27-437e-86cb-97fa6f5e5574",
   "metadata": {},
   "outputs": [
    {
     "data": {
      "text/plain": [
       "<Geographic 2D CRS: EPSG:6365>\n",
       "Name: Mexico ITRF2008\n",
       "Axis Info [ellipsoidal]:\n",
       "- Lat[north]: Geodetic latitude (degree)\n",
       "- Lon[east]: Geodetic longitude (degree)\n",
       "Area of Use:\n",
       "- name: Mexico - onshore and offshore.\n",
       "- bounds: (-122.19, 12.1, -84.64, 32.72)\n",
       "Datum: Mexico ITRF2008\n",
       "- Ellipsoid: GRS 1980\n",
       "- Prime Meridian: Greenwich"
      ]
     },
     "execution_count": 32,
     "metadata": {},
     "output_type": "execute_result"
    }
   ],
   "source": [
    "malla_geo.crs"
   ]
  },
  {
   "cell_type": "code",
   "execution_count": null,
   "id": "52db5a77-c4e8-4c9d-822f-d852af00c886",
   "metadata": {},
   "outputs": [],
   "source": []
  }
 ],
 "metadata": {
  "kernelspec": {
   "display_name": "Python 3 (ipykernel)",
   "language": "python",
   "name": "python3"
  },
  "language_info": {
   "codemirror_mode": {
    "name": "ipython",
    "version": 3
   },
   "file_extension": ".py",
   "mimetype": "text/x-python",
   "name": "python",
   "nbconvert_exporter": "python",
   "pygments_lexer": "ipython3",
   "version": "3.8.0"
  }
 },
 "nbformat": 4,
 "nbformat_minor": 5
}
