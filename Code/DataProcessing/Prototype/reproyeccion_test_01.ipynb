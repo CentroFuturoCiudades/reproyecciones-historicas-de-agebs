{
 "cells": [
  {
   "cell_type": "code",
   "execution_count": null,
   "id": "a159a8ce-62b2-4afd-a722-1ebe9734a0b2",
   "metadata": {},
   "outputs": [],
   "source": [
    "import pandas as pd\n",
    "import geopandas as gpd\n",
    "import matplotlib.pyplot as plt"
   ]
  },
  {
   "cell_type": "markdown",
   "id": "1a9f128e-0835-4327-9053-66b871b6f495",
   "metadata": {},
   "source": [
    "## Carga AGEBs 1990"
   ]
  },
  {
   "cell_type": "code",
   "execution_count": null,
   "id": "b018cec6-2365-4c3e-a957-6b762307779c",
   "metadata": {},
   "outputs": [],
   "source": [
    "# 1990\n",
    "path_1990  = \"../../Sample_Data/Raw/hermosillo/AGEBS_1990/Hermosillo_AGEBs_Poblacion_1990.shp\"\n",
    "census_1990 = gpd.read_file(path_1990)\n",
    "agebs_1990 = census_1990[[\"AGEB\", \"P01\", \"geometry\"]].copy()\n",
    "agebs_1990['AGEB'] = agebs_1990['AGEB'].str.replace('-', '')\n",
    "agebs_1990 = agebs_1990.rename(columns={'P01': 'pobtot', 'AGEB':'CVEGEO'})\n",
    "agebs_1990.head()"
   ]
  },
  {
   "cell_type": "code",
   "execution_count": null,
   "id": "f28db103-74b2-4fd4-9336-ffdca1da9203",
   "metadata": {},
   "outputs": [],
   "source": [
    "fig, ax = plt.subplots()\n",
    "agebs_1990.plot(ax=ax)\n",
    "ax.axis('off')\n",
    "plt.show()"
   ]
  },
  {
   "cell_type": "code",
   "execution_count": null,
   "id": "930eeeef-2be4-49b8-816c-d51cd7c01a21",
   "metadata": {},
   "outputs": [],
   "source": [
    "agebs_1990.crs"
   ]
  },
  {
   "cell_type": "markdown",
   "id": "e152d4c4-5574-44eb-8a43-8bf4ef73343c",
   "metadata": {},
   "source": [
    "## Malla Geoestadística"
   ]
  },
  {
   "cell_type": "code",
   "execution_count": null,
   "id": "15515a9b-82c9-4f60-8518-6e4813ab45a3",
   "metadata": {},
   "outputs": [],
   "source": [
    "path_data = \"../../Sample_Data/Raw/\"\n",
    "malla_path = path_data + \"malla_geoestadistica/conjunto_de_datos/nivel8.shp\"\n",
    "malla_geo  = gpd.read_file(malla_path)"
   ]
  },
  {
   "cell_type": "code",
   "execution_count": null,
   "id": "123b90e4-dd0e-4b59-865b-077add08ea91",
   "metadata": {
    "scrolled": true
   },
   "outputs": [],
   "source": [
    "malla_geo.head()"
   ]
  },
  {
   "cell_type": "markdown",
   "id": "f924dffa-28a1-40cf-9d06-243cc6e9170b",
   "metadata": {},
   "source": [
    "## Reproyección de CRS"
   ]
  },
  {
   "cell_type": "code",
   "execution_count": null,
   "id": "c16a5503-5f17-4aa9-8543-55c668566565",
   "metadata": {},
   "outputs": [],
   "source": [
    "# Lambert Azimuthal Equal Area (EPSG: 3035)\n",
    "agebs_1990 = agebs_1990.to_crs(agebs_90.crs)\n",
    "malla_geo = malla_geo.to_crs(agebs_90.crs)"
   ]
  },
  {
   "cell_type": "markdown",
   "id": "9cba3edc-80ed-47de-bff7-4576c4eb7f39",
   "metadata": {},
   "source": [
    "## Reproyecciones"
   ]
  },
  {
   "cell_type": "code",
   "execution_count": null,
   "id": "62c73001-b05e-455f-b17d-a026766cc30d",
   "metadata": {},
   "outputs": [],
   "source": [
    "import geopandas as gpd\n",
    "\n",
    "# Realizar la intersección espacial entre las geometrías\n",
    "intersection = gpd.sjoin(malla_geo, agebs_1990, how=\"inner\", predicate='intersects')\n",
    "\n",
    "\n",
    "# Calcular la proporción de área compartida\n",
    "intersection['area_intersection'] = intersection.geometry.area\n",
    "intersection['prop_area'] = intersection['area_intersection'] / intersection.geometry.area\n",
    "\n",
    "# Proyectar la población\n",
    "intersection['poblacion_proyectada'] = intersection['prop_area'] * intersection['pobtot']\n",
    "\n",
    "# Agrupar por celda de la malla y sumar la población proyectada\n",
    "poblacion_por_malla = intersection.groupby('codigo')['poblacion_proyectada'].sum().reset_index()\n",
    "\n",
    "# Realizar la fusión entre poblacion_por_malla y el GeoDataFrame de la intersección\n",
    "poblacion_por_malla_con_geometria = poblacion_por_malla.merge(intersection[['codigo', 'geometry']], on='codigo', how='left')\n",
    "poblacion_por_malla_con_geometria = gpd.GeoDataFrame(poblacion_por_malla_con_geometria, geometry='geometry')\n",
    "\n",
    "# Graficar la geometría con la población utilizando una escala de color\n",
    "fig, ax = plt.subplots(1, 1, figsize=(10, 8))\n",
    "poblacion_por_malla_con_geometria.plot(column='poblacion_proyectada', edgecolor='black', cmap='YlGnBu', \n",
    "                                       legend=True, ax=ax, legend_kwds={'label': \"Población Proyectada\"})\n",
    "\n",
    "# Superponer las geometrías de las AGEBs encima del gráfico existente\n",
    "agebs_1990.plot(ax=ax, alpha=0.5, edgecolor='white')\n",
    "\n",
    "plt.title('Población Proyectada por Celda de Malla con AGEBs')\n",
    "plt.show()"
   ]
  },
  {
   "cell_type": "code",
   "execution_count": null,
   "id": "30b029b3-faf1-4c92-9d2c-40398a6a24d6",
   "metadata": {},
   "outputs": [],
   "source": [
    "# Graficar la geometría con la población utilizando una escala de color\n",
    "fig, ax = plt.subplots(1, 1, figsize=(10, 8))\n",
    "poblacion_por_malla_con_geometria.plot(column='poblacion_proyectada', edgecolor='black', cmap='YlGnBu', \n",
    "                                       legend=True, ax=ax, legend_kwds={'label': \"Población Proyectada\"})\n",
    "\n",
    "plt.title('Población Proyectada por Celda de Malla con AGEBs')\n",
    "plt.show()"
   ]
  },
  {
   "cell_type": "code",
   "execution_count": null,
   "id": "a7734c7d-a779-4695-9acc-f766994980a5",
   "metadata": {},
   "outputs": [],
   "source": [
    "# Graficar la geometría con la población utilizando una escala de color\n",
    "fig, ax = plt.subplots(1, 1, figsize=(10, 8))\n",
    "poblacion_por_malla_con_geometria.plot(column='poblacion_proyectada', edgecolor='black', cmap='YlGnBu', \n",
    "                                       legend=True, ax=ax, legend_kwds={'label': \"Población Proyectada\"})\n",
    "\n",
    "# Superponer las geometrías de las AGEBs encima del gráfico existente\n",
    "agebs_1990.plot(ax=ax, alpha=0.5, edgecolor='white')\n",
    "\n",
    "plt.title('Población Proyectada por Celda de Malla con AGEBs')\n",
    "plt.show()"
   ]
  },
  {
   "cell_type": "code",
   "execution_count": null,
   "id": "0beeb4c2-685a-4485-a6dd-c5f48c5c5bd4",
   "metadata": {},
   "outputs": [],
   "source": [
    "# Graficar la geometría con la población utilizando una escala de color\n",
    "fig, ax = plt.subplots(1, 1, figsize=(10, 8))\n",
    "agebs_1990.plot(column='pobtot', edgecolor='black', cmap='YlGnBu', \n",
    "                                       legend=True, ax=ax, legend_kwds={'label': \"Población Proyectada\"})\n",
    "\n",
    "plt.title('Población por AGEBs')\n",
    "plt.show()"
   ]
  },
  {
   "cell_type": "code",
   "execution_count": null,
   "id": "e2577ca4-d3d3-4a91-804a-3732994550c4",
   "metadata": {},
   "outputs": [],
   "source": []
  }
 ],
 "metadata": {
  "kernelspec": {
   "display_name": "Python 3 (ipykernel)",
   "language": "python",
   "name": "python3"
  },
  "language_info": {
   "codemirror_mode": {
    "name": "ipython",
    "version": 3
   },
   "file_extension": ".py",
   "mimetype": "text/x-python",
   "name": "python",
   "nbconvert_exporter": "python",
   "pygments_lexer": "ipython3",
   "version": "3.8.0"
  }
 },
 "nbformat": 4,
 "nbformat_minor": 5
}
